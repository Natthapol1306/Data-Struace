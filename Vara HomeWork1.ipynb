{
 "cells": [
  {
   "cell_type": "markdown",
   "metadata": {},
   "source": [
    "# ExerciseData"
   ]
  },
  {
   "cell_type": "markdown",
   "metadata": {},
   "source": [
    "Problem1"
   ]
  },
  {
   "cell_type": "code",
   "execution_count": 1,
   "metadata": {},
   "outputs": [
    {
     "name": "stdout",
     "output_type": "stream",
     "text": [
      "[6, 12, 18, 4, 12, 20, 28]\n"
     ]
    }
   ],
   "source": [
    "#Given list\n",
    "#listOne = [3,6,9,12,15,18,21]\n",
    "#listTwo = [4,8,12,16,20,24,28]\n",
    "\n",
    "list_1 = [6,12,18]\n",
    "list_2 = [4,12,20,28]\n",
    "list_3 = list_1 + list_2\n",
    "\n",
    "print(list_3)"
   ]
  },
  {
   "cell_type": "markdown",
   "metadata": {},
   "source": [
    "Problem2\n"
   ]
  },
  {
   "cell_type": "code",
   "execution_count": 2,
   "metadata": {},
   "outputs": [],
   "source": [
    "#List = [54,44,27,79,91,42]"
   ]
  },
  {
   "cell_type": "code",
   "execution_count": 3,
   "metadata": {},
   "outputs": [
    {
     "name": "stdout",
     "output_type": "stream",
     "text": [
      "[34, 54, 11, 67, 89, 43, 94, 11]\n"
     ]
    }
   ],
   "source": [
    "Originals_list = [34,54,67,89,11,43,94]\n",
    "Originals_list.pop(4)\n",
    "Originals_list.insert(2,11)\n",
    "Originals_list.append(11)\n",
    "print(Originals_list)"
   ]
  },
  {
   "cell_type": "markdown",
   "metadata": {},
   "source": [
    "Problem 3"
   ]
  },
  {
   "cell_type": "code",
   "execution_count": 4,
   "metadata": {},
   "outputs": [
    {
     "name": "stdout",
     "output_type": "stream",
     "text": [
      "[8, 45, 11]\n",
      "[12, 14, 23]\n",
      "[89, 45, 78]\n"
     ]
    }
   ],
   "source": [
    "Originals_list1 = [11,45,8,23,14,12,78,45,89]\n",
    "x= Originals_list1[0:3]\n",
    "x.reverse()\n",
    "print(x)\n",
    "z= Originals_list1[3:6]\n",
    "z.reverse()\n",
    "print(z)\n",
    "k= Originals_list1[6:9]\n",
    "k.reverse()\n",
    "print(k)"
   ]
  },
  {
   "cell_type": "markdown",
   "metadata": {},
   "source": [
    "Problem 4"
   ]
  },
  {
   "cell_type": "code",
   "execution_count": 5,
   "metadata": {},
   "outputs": [
    {
     "name": "stdout",
     "output_type": "stream",
     "text": [
      "11 Total \n",
      " > 2 ตัว\n",
      "45 Total \n",
      " > 3 ตัว\n",
      "8 Total \n",
      " > 1 ตัว\n",
      "23 Total \n",
      " > 2 ตัว\n",
      "89 Total \n",
      " > 1 ตัว\n"
     ]
    }
   ],
   "source": [
    "Originals_list2=[11,45,8,11,23,45,23,45,89]\n",
    "z=Originals_list2.count(11)\n",
    "print(\"11 Total \\n >\",z,\"ตัว\")\n",
    "x=Originals_list2.count(45)\n",
    "print(\"45 Total \\n >\",x,\"ตัว\")\n",
    "a=Originals_list2.count(8)\n",
    "print(\"8 Total \\n >\",a,\"ตัว\")\n",
    "b=Originals_list2.count(23)\n",
    "print(\"23 Total \\n >\",b,\"ตัว\")\n",
    "d=Originals_list2.count(89)\n",
    "print(\"89 Total \\n >\",d,\"ตัว\")"
   ]
  },
  {
   "cell_type": "code",
   "execution_count": 6,
   "metadata": {},
   "outputs": [
    {
     "name": "stdout",
     "output_type": "stream",
     "text": [
      "{'11': 2, '45': 3, '8': 1, '23': 2, '89': 1}\n"
     ]
    }
   ],
   "source": [
    "dict_a= {\n",
    "    \"11\":z,\n",
    "    \"45\":x,\n",
    "    \"8\":a,\n",
    "    \"23\":b,\n",
    "    \"89\":d\n",
    "}\n",
    "print(dict_a)"
   ]
  },
  {
   "cell_type": "markdown",
   "metadata": {},
   "source": [
    "Problem5"
   ]
  },
  {
   "cell_type": "code",
   "execution_count": 9,
   "metadata": {},
   "outputs": [
    {
     "name": "stdout",
     "output_type": "stream",
     "text": [
      "[2, 3, 4, 5, 6, 7, 8]\n",
      "[4, 9, 16, 25, 36, 49, 64]\n",
      "{(6, 36), (8, 64), (4, 16), (5, 25), (3, 9), (7, 49), (2, 4)}\n"
     ]
    }
   ],
   "source": [
    "First_List = ([2,3,4,5,6,7,8])\n",
    "Second_List = ([4,9,16,25,36,49,64])\n",
    "Result = {(6,36),(8,64),(4,16),(5,25),(3,9),(7,49),(2,4),}\n",
    "print(First_List)\n",
    "print(Second_List)\n",
    "print(Result)"
   ]
  },
  {
   "cell_type": "markdown",
   "metadata": {},
   "source": [
    "Problem6"
   ]
  },
  {
   "cell_type": "code",
   "execution_count": 10,
   "metadata": {},
   "outputs": [
    {
     "name": "stdout",
     "output_type": "stream",
     "text": [
      "{57, 83, 29}\n"
     ]
    }
   ],
   "source": [
    "First_set = {65,42,78,83,23,57,29}\n",
    "Second_set = {67,73,43,48,83,57,29}\n",
    "print(First_set.intersection(Second_set))"
   ]
  },
  {
   "cell_type": "code",
   "execution_count": 11,
   "metadata": {},
   "outputs": [
    {
     "name": "stdout",
     "output_type": "stream",
     "text": [
      "{65, 42, 78, 23, 57, 29}\n"
     ]
    }
   ],
   "source": [
    "First_set.remove(83)\n",
    "print(First_set)"
   ]
  },
  {
   "cell_type": "markdown",
   "metadata": {},
   "source": [
    "Problem7"
   ]
  },
  {
   "cell_type": "code",
   "execution_count": 12,
   "metadata": {},
   "outputs": [],
   "source": [
    "#FirstSet = {27,43,34}\n",
    "#seconSet = {34,93,22,27,43,53,48}"
   ]
  },
  {
   "cell_type": "code",
   "execution_count": 14,
   "metadata": {},
   "outputs": [
    {
     "name": "stdout",
     "output_type": "stream",
     "text": [
      "True\n"
     ]
    }
   ],
   "source": [
    "FirstSet = {57,83,29}\n",
    "SecondSet = {67,73,43,48,83,57,29}\n",
    "print(FirstSet.issubset(SecondSet))"
   ]
  },
  {
   "cell_type": "code",
   "execution_count": 15,
   "metadata": {},
   "outputs": [
    {
     "name": "stdout",
     "output_type": "stream",
     "text": [
      "False\n"
     ]
    }
   ],
   "source": [
    "FirstSet = {57,83,29}\n",
    "SecondSet = {67,73,43,48,83,57,29}\n",
    "print(SecondSet.issubset(FirstSet))"
   ]
  },
  {
   "cell_type": "code",
   "execution_count": 18,
   "metadata": {},
   "outputs": [
    {
     "name": "stdout",
     "output_type": "stream",
     "text": [
      "True\n"
     ]
    }
   ],
   "source": [
    "FirstSet = {57,83,29}\n",
    "SecondSet = {67,73,43,48,83,57,29}\n",
    "print(FirstSet.issubset(SecondSet))"
   ]
  },
  {
   "cell_type": "code",
   "execution_count": 19,
   "metadata": {},
   "outputs": [
    {
     "name": "stdout",
     "output_type": "stream",
     "text": [
      "False\n"
     ]
    }
   ],
   "source": [
    "FirstSet = {57,83,29}\n",
    "SecondSet = {67,73,43,48,83,57,29}\n",
    "print(SecondSet.issubset(FirstSet))"
   ]
  },
  {
   "cell_type": "markdown",
   "metadata": {},
   "source": [
    "Problem8"
   ]
  },
  {
   "cell_type": "code",
   "execution_count": 5,
   "metadata": {},
   "outputs": [
    {
     "name": "stdout",
     "output_type": "stream",
     "text": [
      "Given: \n",
      "rollNumber =  [47, 64, 69, 39, 76, 83, 95, 97]\n",
      "sampleDict =  {'jhon': 47, 'Emma': 69, 'Kelly': 76, 'Kason': 97}\n",
      "\n",
      "Expected Outcome:\n",
      "after removing unwanted element from list   [47, 69, 76, 97]\n"
     ]
    }
   ],
   "source": [
    "rollNumber = [47,64,69,39,76,83,95,97]\n",
    "sampleDict = {'jhon':47,'Emma':69,'Kelly':76,'Kason':97}\n",
    "print(\"Given: \")\n",
    "print('rollNumber = ',rollNumber)\n",
    "print('sampleDict = ',sampleDict)\n",
    "print(\"\\nExpected Outcome:\")\n",
    "tmp = sampleDict.values()\n",
    "tmp2 = [47,64,69,39,76,83,95,97]\n",
    "for i in range(len(tmp2)) :\n",
    "    if tmp2[i] not in tmp :\n",
    "        rollNumber.remove(tmp2[i])\n",
    "print('after removing unwanted element from list  ',rollNumber)"
   ]
  },
  {
   "cell_type": "markdown",
   "metadata": {},
   "source": [
    "Problem9"
   ]
  },
  {
   "cell_type": "markdown",
   "metadata": {},
   "source": [
    "Problem10"
   ]
  },
  {
   "cell_type": "code",
   "execution_count": 4,
   "metadata": {},
   "outputs": [
    {
     "name": "stdout",
     "output_type": "stream",
     "text": [
      "For Instance :\n",
      "Instance List =  [87, 45, 41, 65, 94, 41, 99, 94]\n",
      "Expected Outcome :\n",
      "unique items =  [87, 45, 41, 65, 94, 99]\n",
      "tuple =  (87, 45, 41, 65, 94, 99)\n",
      "min :  41 max :  99\n"
     ]
    }
   ],
   "source": [
    "Ex = [87,45,41,65,94,41,99,94]\n",
    "print(\"For Instance :\")\n",
    "print(\"Instance List = \",Ex)\n",
    "tmp = []\n",
    "for i in Ex:\n",
    "    if i not in tmp :\n",
    "        tmp.append(i)\n",
    "Ex = tmp\n",
    "print(\"Expected Outcome :\")\n",
    "print(\"unique items = \",Ex)\n",
    "print(\"tuple = \",tuple(Ex))\n",
    "print(\"min : \",min(Ex),'max : ',max(Ex))"
   ]
  }
 ],
 "metadata": {
  "kernelspec": {
   "display_name": "Python 3",
   "language": "python",
   "name": "python3"
  },
  "language_info": {
   "codemirror_mode": {
    "name": "ipython",
    "version": 3
   },
   "file_extension": ".py",
   "mimetype": "text/x-python",
   "name": "python",
   "nbconvert_exporter": "python",
   "pygments_lexer": "ipython3",
   "version": "3.6.8"
  }
 },
 "nbformat": 4,
 "nbformat_minor": 2
}
